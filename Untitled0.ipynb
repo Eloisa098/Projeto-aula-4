{
  "nbformat": 4,
  "nbformat_minor": 0,
  "metadata": {
    "colab": {
      "provenance": [],
      "authorship_tag": "ABX9TyNehltgwH0PMO6xrOvHmVEh",
      "include_colab_link": true
    },
    "kernelspec": {
      "name": "python3",
      "display_name": "Python 3"
    },
    "language_info": {
      "name": "python"
    }
  },
  "cells": [
    {
      "cell_type": "markdown",
      "metadata": {
        "id": "view-in-github",
        "colab_type": "text"
      },
      "source": [
        "<a href=\"https://colab.research.google.com/github/Eloisa098/Projeto-aula-4/blob/main/Untitled0.ipynb\" target=\"_parent\"><img src=\"https://colab.research.google.com/assets/colab-badge.svg\" alt=\"Open In Colab\"/></a>"
      ]
    },
    {
      "cell_type": "markdown",
      "source": [
        "Intalando o SDK do google"
      ],
      "metadata": {
        "id": "NxcIHwGA5sPI"
      }
    },
    {
      "cell_type": "code",
      "source": [
        "!pip install -q -U google-generativeai"
      ],
      "metadata": {
        "id": "9JPcTH7W0cqz"
      },
      "execution_count": 2,
      "outputs": []
    },
    {
      "cell_type": "code",
      "source": [
        "import google.generativeai as genai\n",
        "\n",
        "\n",
        "GOOGLE_API_KEY=\"secret_key\"\n",
        "genai.configure(api_key=GOOGLE_API_KEY)"
      ],
      "metadata": {
        "id": "EkzTK8KD6DkM"
      },
      "execution_count": 3,
      "outputs": []
    },
    {
      "cell_type": "markdown",
      "source": [
        "listar os modelos disponíveis."
      ],
      "metadata": {
        "id": "VPckfaTj6oeF"
      }
    },
    {
      "cell_type": "code",
      "source": [
        "for n in genai.list_models():\n",
        "  if \"generateContent\" in n.supported_generation_methods:\n",
        "    print(n.name)"
      ],
      "metadata": {
        "colab": {
          "base_uri": "https://localhost:8080/",
          "height": 138
        },
        "id": "CDVEJFK66llT",
        "outputId": "cfd94c51-b034-430c-ffcf-14fb8f672c52"
      },
      "execution_count": 4,
      "outputs": [
        {
          "output_type": "stream",
          "name": "stdout",
          "text": [
            "models/gemini-1.0-pro\n",
            "models/gemini-1.0-pro-001\n",
            "models/gemini-1.0-pro-latest\n",
            "models/gemini-1.0-pro-vision-latest\n",
            "models/gemini-1.5-pro-latest\n",
            "models/gemini-pro\n",
            "models/gemini-pro-vision\n"
          ]
        }
      ]
    },
    {
      "cell_type": "code",
      "source": [
        "generation_config={\n",
        "    \"candidate_count\":1,\n",
        "    \"temperature\":0.5,\n",
        "    \"top p\":0.5,\n",
        "    \"top k\":0.5\n",
        "}"
      ],
      "metadata": {
        "id": "Vl9WRRRy7kF7"
      },
      "execution_count": 5,
      "outputs": []
    },
    {
      "cell_type": "code",
      "source": [
        "safety_settings={\n",
        "    \"HARASSMENT\":\"MED\",\n",
        "    \"HATE\":\"MED\",\n",
        "    \"SEXUAL\":\"MED\",\n",
        "    \"DANGEROUS\":\"MED\"\n",
        "}"
      ],
      "metadata": {
        "id": "T6ELFCnW8bcf"
      },
      "execution_count": 17,
      "outputs": []
    },
    {
      "cell_type": "code",
      "source": [
        "model= genai.GenerativeModel(model_name=\"gemini-1.0-pro\",\n",
        "                         generation_config=generation_config,\n",
        "                             safety_settings=safety_settings)"
      ],
      "metadata": {
        "id": "1CQyq4HI9fz5"
      },
      "execution_count": 18,
      "outputs": []
    },
    {
      "cell_type": "code",
      "source": [
        "chat=model.start_chat(history=[])"
      ],
      "metadata": {
        "id": "aVFMIxlYJoR0"
      },
      "execution_count": 36,
      "outputs": []
    },
    {
      "cell_type": "code",
      "source": [
        "# Apresentação do guia\n",
        "print(\"## Descubra o Mundo da Programação com Python: Um Guia Completo para Iniciantes\\n\")\n",
        "\n",
        "# O que é programação e para que serve?\n",
        "print(\"### 1. Desvendando os Mistérios da Programação: O que é e para que serve?\\n\")\n",
        "\n",
        "texto_programacao = \"\"\"\n",
        "A programação é a arte de criar instruções para que um computador realize tarefas. Através de linguagens de programação, como Python, Java, C++ e JavaScript, você pode construir desde simples scripts até softwares complexos e inteligência artificial.\n",
        "\n",
        "Aplicações da Programação:\n",
        "\n",
        "* Desenvolvimento Web: Crie sites e aplicações web dinâmicas e interativas.\n",
        "* Análise de Dados: Explore e visualize dados de forma eficiente para tomar decisões mais inteligentes.\n",
        "* Automação de Tarefas: Automatize tarefas repetitivas e otimize seu tempo.\n",
        "* Inteligência Artificial: Desenvolva sistemas inteligentes que aprendem e tomam decisões.\n",
        "* Desenvolvimento de Jogos: Crie jogos divertidos e envolventes.\n",
        "* Prototipagem Rápida: Crie protótipos de software de forma rápida e eficiente.\n",
        "* Muito mais: As possibilidades com a programação são infinitas! Explore áreas como desenvolvimento científico, machine learning, Internet das Coisas e muito mais.\n",
        "\"\"\"\n",
        "\n",
        "print(texto_programacao)\n",
        "\n",
        "# Linguagens de programação: a linguagem dos computadores\n",
        "print(\"\\n### 2. Linguagens de Programação: A Linguagem dos Computadores\\n\")\n",
        "\n",
        "texto_linguagens = \"\"\"\n",
        "As linguagens de programação são como ferramentas que permitem comunicar-se com os computadores. Cada linguagem possui sua própria sintaxe e regras, que definem como os comandos devem ser escritos para que o computador os compreenda.\n",
        "\n",
        "Características das Linguagens de Programação:\n",
        "\n",
        "* Nível de Abstração: Alto nível (próximo à linguagem natural) ou baixo nível (próximo à linguagem da máquina).\n",
        "* Paradigma de Programação: Orientada a objetos, funcional, imperativa, etc.\n",
        "* Aplicabilidade: Geral (para diversos tipos de aplicações) ou específica (para um domínio específico).\n",
        "\"\"\"\n",
        "\n",
        "print(texto_linguagens)\n",
        "\n",
        "# Explorando algumas linguagens populares\n",
        "print(\"\\n### 3. Explorando Algumas Linguagens Populares:\\n\")\n",
        "\n",
        "texto_linguagens_populares = \"\"\"\n",
        "Conheça algumas das linguagens de programação mais utilizadas no mundo:\n",
        "\n",
        "* Python: Linguagem de alto nível, versátil e com sintaxe simples, ideal para iniciantes e para diversas áreas, como web, análise de dados e machine learning.\n",
        "* Java: Linguagem robusta e segura, muito utilizada para desenvolvimento de grandes sistemas e aplicações web corporativas.\n",
        "* C++: Linguagem de alto desempenho, com controle preciso da memória, ideal para jogos, softwares embarcados e sistemas críticos.\n",
        "* JavaScript: Linguagem essencial para desenvolvimento web front-end, permitindo criar interfaces interativas e dinâmicas.\n",
        "* C#: Linguagem moderna da Microsoft, utilizada para desenvolvimento de aplicações Windows, web e jogos.\n",
        "\"\"\"\n",
        "\n",
        "print(texto_linguagens_populares)\n",
        "\n",
        "# Recursos essenciais para começar sua jornada\n",
        "print(\"\\n### 4. Recursos Essenciais para Começar sua Jornada:\\n\")\n",
        "\n",
        "texto_recursos_essenciais = \"\"\"\n",
        "Para iniciar sua jornada na programação, você precisará de alguns recursos básicos:\n",
        "\n",
        "* Instalar uma Linguagem de Programação: Baixe e instale a linguagem de sua preferência em seu computador (Python, Java, C++, etc.).\n",
        "* Um Editor de Código: Escolha um editor de código que te agrade, como Visual Studio Code, PyCharm ou Sublime Text.\n",
        "* Material de Aprendizagem: Explore tutoriais online, livros, cursos e comunidades de programação para aprender os fundamentos da linguagem escolhida.\n",
        "\"\"\"\n",
        "\n",
        "print(texto_recursos_essenciais)\n",
        "\n",
        "# Dicas para se tornar um programador de sucesso\n",
        "print(\"\\n### 5. Dicas para se Tornar um Programador de Sucesso:\\n\")\n",
        "\n",
        "texto_dicas_sucesso = \"\"\"\n",
        "* Comece com o Básico: Domine os conceitos básicos de programação antes de partir para projetos complexos.\n",
        "* Pratique Constantemente: A prática leva à perfeição! Dedique tempo para programar regularmente e aprimorar suas habilidades.\n",
        "* Resolva Problemas: Utilize a programação para resolver problemas reais do seu dia a dia.\n",
        "* Participe da Comunidade: Interaja com outros programadores em fóruns online e eventos para trocar experiências e aprender com os mais experientes.\n",
        "* Nunca Pare de Aprender: O mundo da programação está em constante evolução, então busque sempre se atualizar com novas tecnologias e linguagens.\n",
        "\"\"\"\n",
        "\n",
        "print(texto_dicas_sucesso)\n",
        "\n",
        "# Mensagem final\n"
      ],
      "metadata": {
        "colab": {
          "base_uri": "https://localhost:8080/"
        },
        "id": "aClepQ0XgmP8",
        "outputId": "38fd9294-74c3-4376-ffb3-cc47f389af20"
      },
      "execution_count": 73,
      "outputs": [
        {
          "output_type": "stream",
          "name": "stdout",
          "text": [
            "## Descubra o Mundo da Programação com Python: Um Guia Completo para Iniciantes\n",
            "\n",
            "### 1. Desvendando os Mistérios da Programação: O que é e para que serve?\n",
            "\n",
            "\n",
            "A programação é a arte de criar instruções para que um computador realize tarefas. Através de linguagens de programação, como Python, Java, C++ e JavaScript, você pode construir desde simples scripts até softwares complexos e inteligência artificial.\n",
            "\n",
            "Aplicações da Programação:\n",
            "\n",
            "* Desenvolvimento Web: Crie sites e aplicações web dinâmicas e interativas.\n",
            "* Análise de Dados: Explore e visualize dados de forma eficiente para tomar decisões mais inteligentes.\n",
            "* Automação de Tarefas: Automatize tarefas repetitivas e otimize seu tempo.\n",
            "* Inteligência Artificial: Desenvolva sistemas inteligentes que aprendem e tomam decisões.\n",
            "* Desenvolvimento de Jogos: Crie jogos divertidos e envolventes.\n",
            "* Prototipagem Rápida: Crie protótipos de software de forma rápida e eficiente.\n",
            "* Muito mais: As possibilidades com a programação são infinitas! Explore áreas como desenvolvimento científico, machine learning, Internet das Coisas e muito mais.\n",
            "\n",
            "\n",
            "### 2. Linguagens de Programação: A Linguagem dos Computadores\n",
            "\n",
            "\n",
            "As linguagens de programação são como ferramentas que permitem comunicar-se com os computadores. Cada linguagem possui sua própria sintaxe e regras, que definem como os comandos devem ser escritos para que o computador os compreenda.\n",
            "\n",
            "Características das Linguagens de Programação:\n",
            "\n",
            "* Nível de Abstração: Alto nível (próximo à linguagem natural) ou baixo nível (próximo à linguagem da máquina).\n",
            "* Paradigma de Programação: Orientada a objetos, funcional, imperativa, etc.\n",
            "* Aplicabilidade: Geral (para diversos tipos de aplicações) ou específica (para um domínio específico).\n",
            "\n",
            "\n",
            "### 3. Explorando Algumas Linguagens Populares:\n",
            "\n",
            "\n",
            "Conheça algumas das linguagens de programação mais utilizadas no mundo:\n",
            "\n",
            "* Python: Linguagem de alto nível, versátil e com sintaxe simples, ideal para iniciantes e para diversas áreas, como web, análise de dados e machine learning.\n",
            "* Java: Linguagem robusta e segura, muito utilizada para desenvolvimento de grandes sistemas e aplicações web corporativas.\n",
            "* C++: Linguagem de alto desempenho, com controle preciso da memória, ideal para jogos, softwares embarcados e sistemas críticos.\n",
            "* JavaScript: Linguagem essencial para desenvolvimento web front-end, permitindo criar interfaces interativas e dinâmicas.\n",
            "* C#: Linguagem moderna da Microsoft, utilizada para desenvolvimento de aplicações Windows, web e jogos.\n",
            "\n",
            "\n",
            "### 4. Recursos Essenciais para Começar sua Jornada:\n",
            "\n",
            "\n",
            "Para iniciar sua jornada na programação, você precisará de alguns recursos básicos:\n",
            "\n",
            "* Instalar uma Linguagem de Programação: Baixe e instale a linguagem de sua preferência em seu computador (Python, Java, C++, etc.).\n",
            "* Um Editor de Código: Escolha um editor de código que te agrade, como Visual Studio Code, PyCharm ou Sublime Text.\n",
            "* Material de Aprendizagem: Explore tutoriais online, livros, cursos e comunidades de programação para aprender os fundamentos da linguagem escolhida.\n",
            "\n",
            "\n",
            "### 5. Dicas para se Tornar um Programador de Sucesso:\n",
            "\n",
            "\n",
            "* Comece com o Básico: Domine os conceitos básicos de programação antes de partir para projetos complexos.\n",
            "* Pratique Constantemente: A prática leva à perfeição! Dedique tempo para programar regularmente e aprimorar suas habilidades.\n",
            "* Resolva Problemas: Utilize a programação para resolver problemas reais do seu dia a dia.\n",
            "* Participe da Comunidade: Interaja com outros programadores em fóruns online e eventos para trocar experiências e aprender com os mais experientes.\n",
            "* Nunca Pare de Aprender: O mundo da programação está em constante evolução, então busque sempre se atualizar com novas tecnologias e linguagens.\n",
            "\n"
          ]
        }
      ]
    }
  ]
}